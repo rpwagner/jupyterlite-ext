{
 "cells": [
  {
   "cell_type": "code",
   "execution_count": null,
   "id": "2c6c3418-b6a8-42de-a36e-28b1902f6df9",
   "metadata": {},
   "outputs": [],
   "source": [
    "import os\n",
    "from pathlib import Path\n",
    "from datetime import datetime, timedelta\n",
    "import numpy as np\n",
    "import pandas as pd\n",
    "import matplotlib.pyplot as plt\n",
    "import contextily as cx\n",
    "import geopandas"
   ]
  },
  {
   "cell_type": "code",
   "execution_count": null,
   "id": "de49fdb5-8ea3-4599-9178-c572ed99c8c2",
   "metadata": {},
   "outputs": [],
   "source": [
    "# List of stations to loop through\n",
    "station = ['BBY', 'CAT', 'Kibbe', 'NBB', 'SOD', 'Tacoma']\n",
    "station_coords = {'BBY': [38.3183, -123.0729], 'CAT': [33.4462, -118.4828], 'Kibbe': [39.2208, -121.4822],\n",
    "                      'NBB': [39.3964, -121.1438], 'SOD': [34.1148, -117.0875], 'Tacoma': [47.1338, -122.2569]}"
   ]
  },
  {
   "cell_type": "code",
   "execution_count": null,
   "id": "0f3df3aa-4c76-440a-bcc4-f717534183f9",
   "metadata": {},
   "outputs": [],
   "source": [
    "filename = './data/USBOD/USBOD_20250214_0000.txt'"
   ]
  },
  {
   "cell_type": "code",
   "execution_count": null,
   "id": "1fc2ccd9-5c99-4325-b1fc-256d5838d5f3",
   "metadata": {},
   "outputs": [],
   "source": [
    "df_sounding = pd.read_csv(filename, names=['Year', 'Month', 'Day', 'Hour', 'Minute',\n",
    "                                                                'Second', 'Pressure (hPa)', 'Temperature (C)',\n",
    "                                                                'Dew Point (C)', 'Wind Direction (degrees)',\n",
    "                                                                'Wind Speed (m/s)', 'Height (m)', 'Latitude',\n",
    "                                                                'Longitude'], delim_whitespace=True)"
   ]
  },
  {
   "cell_type": "code",
   "execution_count": null,
   "id": "5150c5a8-4ee7-4adf-8fd6-f29ada15b8b9",
   "metadata": {},
   "outputs": [],
   "source": [
    "extents = [-123.5, -121, 37.5, 39.25]\n",
    "fig, ax = plt.subplots(figsize=(10, 8))\n",
    "ax.axis(extents)\n",
    "\n",
    "df_sounding_subset = df_sounding[['Temperature (C)', 'Latitude', 'Longitude']]\n",
    "\n",
    "gdf_sounding_subset = geopandas.GeoDataFrame(\n",
    "                    df_sounding_subset, geometry=geopandas.points_from_xy(df_sounding_subset['Longitude'],\n",
    "                                                                          df_sounding_subset['Latitude']))\n",
    "\n",
    "gdf_sounding_subset = gdf_sounding_subset.set_crs(epsg=4326)\n",
    "\n",
    "cx.add_basemap(ax, source=cx.providers.OpenStreetMap.Mapnik, crs=gdf_sounding_subset.crs, zoom=9)\n",
    "\n",
    "gdf_sounding_subset.plot(kind='scatter', x='Longitude', y='Latitude', ax=ax, color='grey')\n",
    "\n",
    "station_coord = station_coords['BBY']\n",
    "\n",
    "df_coords = pd.DataFrame(columns=['Latitude', 'Longitude'])\n",
    "\n",
    "df_coords.at[0, 'Latitude'] = station_coord[0]\n",
    "df_coords.at[0, 'Longitude'] = station_coord[1]\n",
    "\n",
    "gdf_coords = geopandas.GeoDataFrame(df_coords, geometry=geopandas.points_from_xy(\n",
    "    df_coords['Longitude'], df_coords['Latitude']))\n",
    "\n",
    "gdf_coords.plot(ax=ax, color='red')\n",
    "\n",
    "df_sounding_flipped = df_sounding.iloc[::-1]\n",
    "df_sounding_flipped = df_sounding_flipped.reset_index(drop=True)\n",
    "\n",
    "# Get temperature and height from flipped dataframe to search from top down\n",
    "temps_flipped = np.array(df_sounding_flipped['Temperature (C)'])\n",
    "heights_flipped = np.array(df_sounding_flipped['Height (m)'])\n",
    "\n",
    "# Get the highest level where sign change occurs\n",
    "temp_cross = np.where(np.sign(temps_flipped[:-1]) != np.sign(temps_flipped[1:]))[0]\n",
    "\n",
    "date_to_process = datetime.utcnow() - timedelta(days=40)\n",
    "if (date_to_process.month == 10) or (date_to_process.month == 11) or (date_to_process.month == 12):\n",
    "        water_year = str(date_to_process.year) + '-' + str(date_to_process.year + 1)\n",
    "else:\n",
    "        water_year = str(date_to_process.year - 1) + '-' + str(date_to_process.year)\n",
    "\n",
    " # If a sign change occurs, that becomes the freezing level\n",
    "if len(temp_cross) > 0:\n",
    "                    # Assign value to temp array\n",
    "                    sounding_freeze_obs = heights_flipped[temp_cross][0]\n",
    "\n",
    "                    # Create geopandas dataframe\n",
    "                    df_0c = df_sounding_flipped.iloc[temp_cross[0]-1:temp_cross[0], :]\n",
    "                    gdf_0c = geopandas.GeoDataFrame(df_0c, geometry=geopandas.points_from_xy(df_0c['Longitude'],\n",
    "                                                                                             df_0c['Latitude']))\n",
    "\n",
    "                    # Plot the 0C location as a blue dot\n",
    "                    gdf_0c.plot(kind='scatter', x='Longitude', y='Latitude', ax=ax, color='blue')\n",
    "\n",
    "                # If no sign change is found - freezing level is NaN\n",
    "else:\n",
    "                    sounding_freeze_obs = np.nan\n",
    "\n",
    "                # Add title\n",
    "ax.set_title(str(filename), fontsize=14)\n",
    "plt.tight_layout()\n",
    "plt.show()"
   ]
  }
 ],
 "metadata": {
  "kernelspec": {
   "display_name": "Python 3 (ipykernel)",
   "language": "python",
   "name": "python3"
  },
  "language_info": {
   "codemirror_mode": {
    "name": "ipython",
    "version": 3
   },
   "file_extension": ".py",
   "mimetype": "text/x-python",
   "name": "python",
   "nbconvert_exporter": "python",
   "pygments_lexer": "ipython3",
   "version": "3.11.5"
  }
 },
 "nbformat": 4,
 "nbformat_minor": 5
}
