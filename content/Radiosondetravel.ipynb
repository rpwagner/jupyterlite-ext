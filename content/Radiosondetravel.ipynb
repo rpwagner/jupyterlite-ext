{
 "cells": [
  {
   "cell_type": "code",
   "execution_count": null,
   "id": "a11c8384-4431-46aa-bf0b-4394b2dcf4c1",
   "metadata": {},
   "outputs": [],
   "source": [
    "import matplotlib.pyplot as plt\n",
    "import numpy as np\n",
    "import pyproj"
   ]
  },
  {
   "cell_type": "code",
   "execution_count": null,
   "id": "490b2a71-db9a-4e18-8088-dbd5371c7a22",
   "metadata": {},
   "outputs": [],
   "source": [
    "P = pyproj.Proj(proj='utm', zone=31, ellps='WGS84', preserve_units=False)"
   ]
  },
  {
   "cell_type": "code",
   "execution_count": null,
   "id": "69f5844b-6d58-42b0-92c2-5c539a9dcb8b",
   "metadata": {},
   "outputs": [],
   "source": [
    "balloon_data = np.loadtxt('./data/USSIO/USSIO_20250307_0601.txt')"
   ]
  },
  {
   "cell_type": "code",
   "execution_count": null,
   "id": "7746e21a-a1c7-4949-89e4-4813ea75573d",
   "metadata": {},
   "outputs": [],
   "source": [
    "h = balloon_data[:,-3]/1000 # convert to km\n",
    "lat = balloon_data[:,-2] # latitude\n",
    "lon = balloon_data[:,-1] # longitude\n",
    "t = balloon_data[:,-7] # temperature\n",
    "\n",
    "# convert to distance traveled in km\n",
    "dy, dx = P(lon, lat)\n",
    "dx = dx[0] - dx\n",
    "dy = dy[0] - dy\n",
    "dx = dx/1000\n",
    "dy = dy/1000"
   ]
  },
  {
   "cell_type": "code",
   "execution_count": null,
   "id": "94836961-367f-456b-b226-067eccd644ec",
   "metadata": {},
   "outputs": [],
   "source": [
    "ax = plt.figure(figsize=(8, 8)).add_subplot(projection='3d')\n",
    "ax.scatter(dx, dy, h, label='Temperature', c=t)\n",
    "ax.legend()\n",
    "ax.set_xlabel('East (km)')\n",
    "ax.set_ylabel('North (km)')\n",
    "ax.set_zlabel('Height (km)')\n",
    "ax.set_box_aspect(None, zoom=0.85)\n",
    "plt.show()"
   ]
  }
 ],
 "metadata": {
  "kernelspec": {
   "display_name": "Python 3 (ipykernel)",
   "language": "python",
   "name": "python3"
  },
  "language_info": {
   "codemirror_mode": {
    "name": "ipython",
    "version": 3
   },
   "file_extension": ".py",
   "mimetype": "text/x-python",
   "name": "python",
   "nbconvert_exporter": "python",
   "pygments_lexer": "ipython3",
   "version": "3.11.5"
  }
 },
 "nbformat": 4,
 "nbformat_minor": 5
}
